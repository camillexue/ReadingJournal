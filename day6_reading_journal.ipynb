{
 "cells": [
  {
   "cell_type": "markdown",
   "metadata": {},
   "source": [
    "# Day 6 Reading Journal\n",
    "\n",
    "This journal includes several required exercises, but it is meant to encourage active reading more generally.  You should use the journal to take detailed notes, catalog questions, and explore the content from Think Python deeply.\n",
    "\n",
    "Reading: Think Python Chapter 5.8-5.14, 6.5-6.11\n",
    "\n",
    "**Due: Monday, February 6 at 12 noon**\n",
    "\n"
   ]
  },
  {
   "cell_type": "markdown",
   "metadata": {},
   "source": [
    "## [Chapter 5.8 - 5.14](http://www.greenteapress.com/thinkpython2/html/thinkpython2006.html)\n",
    "\n",
    "[Python Tutor](http://pythontutor.com/) can be helpful for visualizing stack diagrams, including for recursive execution.\n",
    "\n",
    "Chapter 5 leads into Chapter 6, and all the required exercises for this reading are in the Chapter 6 section.\n",
    "\n"
   ]
  },
  {
   "cell_type": "markdown",
   "metadata": {},
   "source": [
    "## [Chapter 6.5 - 6.11](http://www.greenteapress.com/thinkpython2/html/thinkpython2007.html)"
   ]
  },
  {
   "cell_type": "markdown",
   "metadata": {
    "is_question": true,
    "problem": "Exercise 6.4"
   },
   "source": [
    "### Exercise 6.1  \n",
    "\n",
    "Draw a stack diagram for the following program. What does the program print? \n",
    "\n",
    "You can do this on paper or using [Python Tutor](http://pythontutor.com/)"
   ]
  },
  {
   "cell_type": "code",
   "execution_count": null,
   "metadata": {
    "collapsed": false,
    "solution": "Exercise 6.4"
   },
   "outputs": [],
   "source": [
    "def b(z):\n",
    "    prod = a(z, z)\n",
    "    print(z, prod)\n",
    "    return prod\n",
    "\n",
    "def a(x, y):\n",
    "    x = x + 1\n",
    "    return x * y\n",
    "\n",
    "def c(x, y, z):\n",
    "    total = x + y + z\n",
    "    square = b(total)**2\n",
    "    return square\n",
    "\n",
    "x = 1\n",
    "y = x + 1\n",
    "print(c(x, y+3, x+y))"
   ]
  },
  {
   "cell_type": "markdown",
   "metadata": {
    "collapsed": true
   },
   "source": [
    "It prints 9 90 8100"
   ]
  },
  {
   "cell_type": "markdown",
   "metadata": {
    "is_question": true,
    "problem": "Exercise 6.6"
   },
   "source": [
    "### Exercise 6.3  \n",
    "\n",
    "A palindrome is a word that is spelled the same backward and forward, like “noon” and “redivider”. Recursively, a word is a palindrome if the first and last letters are the same and the middle is a palindrome.\n",
    "\n",
    "You can use the `first`, `last`, and `middle` helper functions defined in Think Python, or do the string slices inside your function directly. Be sure to think about your base cases.\n",
    "    \n",
    "Write a function called `is_palindrome` that takes a string argument and returns `True` if it is a palindrome and `False` otherwise. Remember that you can use the built-in function `len` to check the length of a string.\n",
    "\n",
    "Write some unit tests for your function (optionally using doctest) to show that it works as intended."
   ]
  },
  {
   "cell_type": "code",
   "execution_count": 40,
   "metadata": {
    "collapsed": false,
    "solution": "Exercise 6.6"
   },
   "outputs": [
    {
     "name": "stdout",
     "output_type": "stream",
     "text": [
      "Finding tests in NoName\n",
      "Trying:\n",
      "    is_palindrome('bob')\n",
      "Expecting:\n",
      "    True\n",
      "ok\n",
      "Trying:\n",
      "    is_palindrome('cat')\n",
      "Expecting:\n",
      "    False\n",
      "ok\n",
      "Trying:\n",
      "    is_palindrome('racecar')\n",
      "Expecting:\n",
      "    True\n",
      "ok\n"
     ]
    }
   ],
   "source": [
    "def is_palindrome(word):\n",
    "    \"\"\"\n",
    "    Return whether or not a word is a palindrome\n",
    "    \n",
    "    >>> is_palindrome('bob')\n",
    "    True\n",
    "    >>> is_palindrome('cat')\n",
    "    False\n",
    "    >>> is_palindrome('racecar')\n",
    "    True\n",
    "    \"\"\"\n",
    "    for n in range(len(word)//2):\n",
    "        if word[n] != word[-(n+1)]:\n",
    "            return False\n",
    "    return True\n",
    "\n",
    "import doctest\n",
    "doctest.run_docstring_examples(is_palindrome,globals(),verbose=True)"
   ]
  },
  {
   "cell_type": "markdown",
   "metadata": {
    "is_question": true,
    "problem": "Exercise 6.6 challenge"
   },
   "source": [
    "### Challenge (optional)\n",
    "\n",
    "Use the word list from [Chapter 9.1](http://www.greenteapress.com/thinkpython2/html/thinkpython2010.html) Exercise 1 to find all of the palindromes."
   ]
  },
  {
   "cell_type": "code",
   "execution_count": 20,
   "metadata": {
    "collapsed": false,
    "solution": "Exercise 6.6 challenge"
   },
   "outputs": [
    {
     "data": {
      "text/plain": [
       "['aa',\n",
       " 'aba',\n",
       " 'aga',\n",
       " 'aha',\n",
       " 'ala',\n",
       " 'alula',\n",
       " 'ama',\n",
       " 'ana',\n",
       " 'anna',\n",
       " 'ava',\n",
       " 'awa',\n",
       " 'bib',\n",
       " 'bob',\n",
       " 'boob',\n",
       " 'bub',\n",
       " 'civic',\n",
       " 'dad',\n",
       " 'deed',\n",
       " 'deified',\n",
       " 'deked',\n",
       " 'deled',\n",
       " 'denned',\n",
       " 'dewed',\n",
       " 'did',\n",
       " 'dud',\n",
       " 'eke',\n",
       " 'eme',\n",
       " 'ere',\n",
       " 'eve',\n",
       " 'ewe',\n",
       " 'eye',\n",
       " 'gag',\n",
       " 'gig',\n",
       " 'hah',\n",
       " 'halalah',\n",
       " 'hallah',\n",
       " 'huh',\n",
       " 'kaiak',\n",
       " 'kayak',\n",
       " 'keek',\n",
       " 'kook',\n",
       " 'level',\n",
       " 'madam',\n",
       " 'marram',\n",
       " 'mem',\n",
       " 'mim',\n",
       " 'minim',\n",
       " 'mom',\n",
       " 'mum',\n",
       " 'noon',\n",
       " 'nun',\n",
       " 'oho',\n",
       " 'otto',\n",
       " 'pap',\n",
       " 'peep',\n",
       " 'pep',\n",
       " 'pip',\n",
       " 'poop',\n",
       " 'pop',\n",
       " 'pup',\n",
       " 'radar',\n",
       " 'redder',\n",
       " 'refer',\n",
       " 'reifier',\n",
       " 'repaper',\n",
       " 'reviver',\n",
       " 'rotator',\n",
       " 'rotor',\n",
       " 'sagas',\n",
       " 'sees',\n",
       " 'selles',\n",
       " 'sememes',\n",
       " 'semes',\n",
       " 'seres',\n",
       " 'sexes',\n",
       " 'shahs',\n",
       " 'sis',\n",
       " 'solos',\n",
       " 'sos',\n",
       " 'stets',\n",
       " 'tat',\n",
       " 'tenet',\n",
       " 'terret',\n",
       " 'tit',\n",
       " 'toot',\n",
       " 'tot',\n",
       " 'tut',\n",
       " 'vav',\n",
       " 'waw',\n",
       " 'wow',\n",
       " 'yay']"
      ]
     },
     "execution_count": 20,
     "metadata": {},
     "output_type": "execute_result"
    }
   ],
   "source": [
    "def make_word_list():\n",
    "    word_list = []\n",
    "    fin = open('words.txt')\n",
    "    for line in fin:\n",
    "        word = line.strip()\n",
    "        word_list.append(word)\n",
    "    return word_list\n",
    "\n",
    "def find_palindromes(word_list):\n",
    "    palindromes = []\n",
    "    for word in word_list:\n",
    "        if is_palindrome(word):\n",
    "            palindromes.append(word)\n",
    "        else:\n",
    "            continue\n",
    "    return palindromes\n",
    "\n",
    "find_palindromes(make_word_list())"
   ]
  },
  {
   "cell_type": "markdown",
   "metadata": {
    "is_question": true,
    "problem": "Exercise 6.7"
   },
   "source": [
    "### Exercise 6.4  \n",
    "\n",
    "A number `a` is a power of `b` if it is divisible by `b` and `a/b` is a power of `b`. Write a function called `is_power` that takes parameters `a` and `b` and returns `True` if `a` is a power of `b`. Note: you will have to think about the base case."
   ]
  },
  {
   "cell_type": "code",
   "execution_count": 39,
   "metadata": {
    "collapsed": false,
    "solution": "Exercise 6.7"
   },
   "outputs": [
    {
     "name": "stdout",
     "output_type": "stream",
     "text": [
      "Finding tests in NoName\n",
      "Trying:\n",
      "    is_power(36,6)\n",
      "Expecting:\n",
      "    True\n",
      "ok\n",
      "Trying:\n",
      "    is_power(2,6)\n",
      "Expecting:\n",
      "    False\n",
      "ok\n",
      "Trying:\n",
      "    is_power(14,7)\n",
      "Expecting:\n",
      "    False\n",
      "ok\n"
     ]
    }
   ],
   "source": [
    "def is_power(a,b):\n",
    "    \"\"\"\n",
    "    >>> is_power(36,6)\n",
    "    True\n",
    "    >>> is_power(2,6)\n",
    "    False\n",
    "    >>> is_power(14,7)\n",
    "    False\n",
    "    \"\"\"\n",
    "    if a == b:\n",
    "        return True\n",
    "    elif a % b == 0:\n",
    "        if is_power(a/b,b):\n",
    "            return True\n",
    "        else: \n",
    "            return False\n",
    "    else:\n",
    "        return False\n",
    "\n",
    "import doctest\n",
    "doctest.run_docstring_examples(is_power,globals(), verbose=True)"
   ]
  },
  {
   "cell_type": "markdown",
   "metadata": {
    "is_question": true,
    "problem": "Exercise 6.8"
   },
   "source": [
    "### Challenge (optional) - Exercise 6.5  \n",
    "\n",
    "The greatest common divisor (GCD) of `a` and `b` is the largest number that divides both of them with no remainder.\n",
    "\n",
    "One way to find the GCD of two numbers is based on the observation that if `r` is the remainder when `a` is divided by `b`, then `gcd(a, b) = gcd(b, r)`. As a base case, we can use `gcd(a, 0) = a`.\n",
    "\n",
    "Write a function called `gcd` that takes parameters `a` and `b` and returns their greatest common divisor."
   ]
  },
  {
   "cell_type": "code",
   "execution_count": 53,
   "metadata": {
    "collapsed": false,
    "problem": "Exercise 6.8"
   },
   "outputs": [
    {
     "name": "stdout",
     "output_type": "stream",
     "text": [
      "Finding tests in NoName\n",
      "Trying:\n",
      "    gcd(24,27)\n",
      "Expecting:\n",
      "    3\n",
      "ok\n",
      "Trying:\n",
      "    gcd(24,12)\n",
      "Expecting:\n",
      "    12\n",
      "ok\n"
     ]
    }
   ],
   "source": [
    "def gcd(a, b):\n",
    "    \"\"\"\n",
    "    returns the greatest common diviser of two numbers a and b\n",
    "    >>> gcd(24,27)\n",
    "    3\n",
    "    >>> gcd(24,12)\n",
    "    12\n",
    "    \"\"\"\n",
    "    if b == 0:\n",
    "        return a\n",
    "    r = a % b\n",
    "    return gcd(b, r)\n",
    "\n",
    "import doctest\n",
    "doctest.run_docstring_examples(gcd,globals(), verbose=True) "
   ]
  },
  {
   "cell_type": "markdown",
   "metadata": {},
   "source": [
    "## Reading Journal feedback\n",
    "\n",
    "[Please complete this short survey](https://docs.google.com/forms/d/e/1FAIpQLScQekhUrf6YYjpfQiAAbavLIA-IJklv_PX1BWbGgxj7JPolmw/viewform?c=0&w=1)\n",
    "\n",
    "If you have any comments on this Reading Journal, feel free to leave them in the survey linked above. This could include suggestions to improve the exercises, topics you'd like to see covered in class next time, or other feedback.\n",
    "\n",
    "If you have Python questions or run into problems while completing the reading, you should post them to Piazza instead so you can get a quick response before your journal is submitted."
   ]
  },
  {
   "cell_type": "markdown",
   "metadata": {
    "feedback_response": true
   },
   "source": [
    " "
   ]
  }
 ],
 "metadata": {
  "kernelspec": {
   "display_name": "Python 3",
   "language": "python",
   "name": "python3"
  },
  "language_info": {
   "codemirror_mode": {
    "name": "ipython",
    "version": 3
   },
   "file_extension": ".py",
   "mimetype": "text/x-python",
   "name": "python",
   "nbconvert_exporter": "python",
   "pygments_lexer": "ipython3",
   "version": "3.5.2"
  }
 },
 "nbformat": 4,
 "nbformat_minor": 0
}
